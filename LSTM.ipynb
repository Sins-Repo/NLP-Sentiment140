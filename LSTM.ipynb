{
  "nbformat": 4,
  "nbformat_minor": 0,
  "metadata": {
    "colab": {
      "name": "(github)LSTM.ipynb",
      "provenance": [],
      "collapsed_sections": []
    },
    "kernelspec": {
      "name": "python3",
      "display_name": "Python 3"
    },
    "accelerator": "TPU"
  },
  "cells": [
    {
      "cell_type": "markdown",
      "metadata": {
        "id": "24E6AykydTW_"
      },
      "source": [
        "# Import Libraries"
      ]
    },
    {
      "cell_type": "code",
      "metadata": {
        "id": "0r_CuOdmjt_e"
      },
      "source": [
        "from keras.preprocessing.text import Tokenizer\n",
        "from keras.preprocessing.sequence import pad_sequences\n",
        "from keras.models import Sequential\n",
        "from keras.layers import Dense, Embedding, LSTM, SimpleRNN, SpatialDropout1D"
      ],
      "execution_count": null,
      "outputs": []
    },
    {
      "cell_type": "code",
      "metadata": {
        "colab": {
          "base_uri": "https://localhost:8080/"
        },
        "id": "d0yxmaTsj1q6",
        "outputId": "fe95623b-e914-4862-85cc-8ea190bb7f9e"
      },
      "source": [
        "from google.colab import drive\n",
        "drive.mount('/content/drive')"
      ],
      "execution_count": null,
      "outputs": [
        {
          "output_type": "stream",
          "text": [
            "Mounted at /content/drive\n"
          ],
          "name": "stdout"
        }
      ]
    },
    {
      "cell_type": "code",
      "metadata": {
        "id": "3laUGxQNj2py"
      },
      "source": [
        "import numpy as np\n",
        "import pandas as pd\n",
        "import matplotlib.pyplot as plt\n",
        "import os\n",
        "import shutil\n",
        "import matplotlib.pyplot as plt\n",
        "\n",
        "import tensorflow as tf\n",
        "from tensorflow.keras.utils import to_categorical\n",
        "\n",
        "from sklearn.model_selection import train_test_split\n",
        "from sklearn import metrics\n",
        "\n",
        "import re\n",
        "import nltk\n",
        "from nltk.corpus import stopwords\n",
        "\n",
        "\n",
        "import tensorflow_hub as hub\n",
        "import tensorflow_datasets as tfds\n",
        "tfds.disable_progress_bar()\n",
        "\n"
      ],
      "execution_count": null,
      "outputs": []
    },
    {
      "cell_type": "markdown",
      "metadata": {
        "id": "quHREbRKdW2v"
      },
      "source": [
        "# Import Dataset\n"
      ]
    },
    {
      "cell_type": "code",
      "metadata": {
        "id": "DRnViBLdj4Rv"
      },
      "source": [
        "tweet_dataset = pd.read_csv('dataset.csv',\n",
        "                            encoding = \"ISO-8859-1\",\n",
        "                            usecols=[0, 5],\n",
        "                            names=[\"label\",\"tweet\"])"
      ],
      "execution_count": null,
      "outputs": []
    },
    {
      "cell_type": "markdown",
      "metadata": {
        "id": "BE9y8cS9dfS1"
      },
      "source": [
        "# Explore & Visualize Dataset"
      ]
    },
    {
      "cell_type": "code",
      "metadata": {
        "colab": {
          "base_uri": "https://localhost:8080/"
        },
        "id": "e7EfB0pHkKxC",
        "outputId": "82acf2de-a536-48eb-d398-14686a925f76"
      },
      "source": [
        "print(tweet_dataset.shape) "
      ],
      "execution_count": null,
      "outputs": [
        {
          "output_type": "stream",
          "text": [
            "(1600000, 2)\n"
          ],
          "name": "stdout"
        }
      ]
    },
    {
      "cell_type": "code",
      "metadata": {
        "id": "hJf15Q_GltYm"
      },
      "source": [
        "tweet_dataset['label'].replace([4, 0],[1, 0], inplace=True) \n",
        "# 4 -> 1 \n",
        "# 0 -> 0"
      ],
      "execution_count": null,
      "outputs": []
    },
    {
      "cell_type": "code",
      "metadata": {
        "colab": {
          "base_uri": "https://localhost:8080/",
          "height": 206
        },
        "id": "jO1mWNCjkf77",
        "outputId": "52421f2a-e3e2-4b80-f9af-e8ba5085af98"
      },
      "source": [
        "tweet_dataset.head()"
      ],
      "execution_count": null,
      "outputs": [
        {
          "output_type": "execute_result",
          "data": {
            "text/html": [
              "<div>\n",
              "<style scoped>\n",
              "    .dataframe tbody tr th:only-of-type {\n",
              "        vertical-align: middle;\n",
              "    }\n",
              "\n",
              "    .dataframe tbody tr th {\n",
              "        vertical-align: top;\n",
              "    }\n",
              "\n",
              "    .dataframe thead th {\n",
              "        text-align: right;\n",
              "    }\n",
              "</style>\n",
              "<table border=\"1\" class=\"dataframe\">\n",
              "  <thead>\n",
              "    <tr style=\"text-align: right;\">\n",
              "      <th></th>\n",
              "      <th>label</th>\n",
              "      <th>tweet</th>\n",
              "    </tr>\n",
              "  </thead>\n",
              "  <tbody>\n",
              "    <tr>\n",
              "      <th>0</th>\n",
              "      <td>0</td>\n",
              "      <td>@switchfoot http://twitpic.com/2y1zl - Awww, t...</td>\n",
              "    </tr>\n",
              "    <tr>\n",
              "      <th>1</th>\n",
              "      <td>0</td>\n",
              "      <td>is upset that he can't update his Facebook by ...</td>\n",
              "    </tr>\n",
              "    <tr>\n",
              "      <th>2</th>\n",
              "      <td>0</td>\n",
              "      <td>@Kenichan I dived many times for the ball. Man...</td>\n",
              "    </tr>\n",
              "    <tr>\n",
              "      <th>3</th>\n",
              "      <td>0</td>\n",
              "      <td>my whole body feels itchy and like its on fire</td>\n",
              "    </tr>\n",
              "    <tr>\n",
              "      <th>4</th>\n",
              "      <td>0</td>\n",
              "      <td>@nationwideclass no, it's not behaving at all....</td>\n",
              "    </tr>\n",
              "  </tbody>\n",
              "</table>\n",
              "</div>"
            ],
            "text/plain": [
              "   label                                              tweet\n",
              "0      0  @switchfoot http://twitpic.com/2y1zl - Awww, t...\n",
              "1      0  is upset that he can't update his Facebook by ...\n",
              "2      0  @Kenichan I dived many times for the ball. Man...\n",
              "3      0    my whole body feels itchy and like its on fire \n",
              "4      0  @nationwideclass no, it's not behaving at all...."
            ]
          },
          "metadata": {
            "tags": []
          },
          "execution_count": 8
        }
      ]
    },
    {
      "cell_type": "code",
      "metadata": {
        "colab": {
          "base_uri": "https://localhost:8080/"
        },
        "id": "4J8fBMMikoUf",
        "outputId": "26fe09bf-13e5-4300-cdf3-bc2c6c92632d"
      },
      "source": [
        "tweet_dataset['label'].value_counts()"
      ],
      "execution_count": null,
      "outputs": [
        {
          "output_type": "execute_result",
          "data": {
            "text/plain": [
              "1    800000\n",
              "0    800000\n",
              "Name: label, dtype: int64"
            ]
          },
          "metadata": {
            "tags": []
          },
          "execution_count": 9
        }
      ]
    },
    {
      "cell_type": "code",
      "metadata": {
        "colab": {
          "base_uri": "https://localhost:8080/",
          "height": 280
        },
        "id": "6K93Jsyolh1S",
        "outputId": "f17a1a9e-c118-4cfd-8efe-cabc6222cb8d"
      },
      "source": [
        "tweet_dataset['label'].value_counts().plot(kind='bar')"
      ],
      "execution_count": null,
      "outputs": [
        {
          "output_type": "execute_result",
          "data": {
            "text/plain": [
              "<matplotlib.axes._subplots.AxesSubplot at 0x7f0df8e2ff50>"
            ]
          },
          "metadata": {
            "tags": []
          },
          "execution_count": 10
        },
        {
          "output_type": "display_data",
          "data": {
            "image/png": "[encoded data removed]",
            "text/plain": [
              "<Figure size 432x288 with 1 Axes>"
            ]
          },
          "metadata": {
            "tags": [],
            "needs_background": "light"
          }
        }
      ]
    },
    {
      "cell_type": "code",
      "metadata": {
        "colab": {
          "base_uri": "https://localhost:8080/",
          "height": 363
        },
        "id": "0i_IFhFSmh_N",
        "outputId": "10370bb7-5609-473b-fb1b-6d91f45c4ff1"
      },
      "source": [
        "import random \n",
        "random.seed(41)\n",
        "tweet_dataset.iloc[random.sample(range(1, 1600000), 10), :]"
      ],
      "execution_count": null,
      "outputs": [
        {
          "output_type": "execute_result",
          "data": {
            "text/html": [
              "<div>\n",
              "<style scoped>\n",
              "    .dataframe tbody tr th:only-of-type {\n",
              "        vertical-align: middle;\n",
              "    }\n",
              "\n",
              "    .dataframe tbody tr th {\n",
              "        vertical-align: top;\n",
              "    }\n",
              "\n",
              "    .dataframe thead th {\n",
              "        text-align: right;\n",
              "    }\n",
              "</style>\n",
              "<table border=\"1\" class=\"dataframe\">\n",
              "  <thead>\n",
              "    <tr style=\"text-align: right;\">\n",
              "      <th></th>\n",
              "      <th>label</th>\n",
              "      <th>tweet</th>\n",
              "    </tr>\n",
              "  </thead>\n",
              "  <tbody>\n",
              "    <tr>\n",
              "      <th>799059</th>\n",
              "      <td>0</td>\n",
              "      <td>awww RIP Farrah Fawcett  bummer @takianballard...</td>\n",
              "    </tr>\n",
              "    <tr>\n",
              "      <th>696726</th>\n",
              "      <td>0</td>\n",
              "      <td>Morning Tweet Peeps &amp;amp; FB Folks. Had plans ...</td>\n",
              "    </tr>\n",
              "    <tr>\n",
              "      <th>483854</th>\n",
              "      <td>0</td>\n",
              "      <td>back still aching  . hmmm.. it's been a while ...</td>\n",
              "    </tr>\n",
              "    <tr>\n",
              "      <th>348205</th>\n",
              "      <td>0</td>\n",
              "      <td>@vrikis I just noticed that you have in- follo...</td>\n",
              "    </tr>\n",
              "    <tr>\n",
              "      <th>808725</th>\n",
              "      <td>1</td>\n",
              "      <td>wow just got how it was great a bunch of new c...</td>\n",
              "    </tr>\n",
              "    <tr>\n",
              "      <th>1212026</th>\n",
              "      <td>1</td>\n",
              "      <td>loves his PraiseTEAM family  I will never forg...</td>\n",
              "    </tr>\n",
              "    <tr>\n",
              "      <th>1447314</th>\n",
              "      <td>1</td>\n",
              "      <td>Sprinkers need some work  #fb</td>\n",
              "    </tr>\n",
              "    <tr>\n",
              "      <th>594454</th>\n",
              "      <td>0</td>\n",
              "      <td>@garpods22 I know! I can't believe we haven't ...</td>\n",
              "    </tr>\n",
              "    <tr>\n",
              "      <th>1159850</th>\n",
              "      <td>1</td>\n",
              "      <td>@mosessaur U sure know that !!!</td>\n",
              "    </tr>\n",
              "    <tr>\n",
              "      <th>580463</th>\n",
              "      <td>0</td>\n",
              "      <td>wishes that it would just rain already.  My ki...</td>\n",
              "    </tr>\n",
              "  </tbody>\n",
              "</table>\n",
              "</div>"
            ],
            "text/plain": [
              "         label                                              tweet\n",
              "799059       0  awww RIP Farrah Fawcett  bummer @takianballard...\n",
              "696726       0  Morning Tweet Peeps &amp; FB Folks. Had plans ...\n",
              "483854       0  back still aching  . hmmm.. it's been a while ...\n",
              "348205       0  @vrikis I just noticed that you have in- follo...\n",
              "808725       1  wow just got how it was great a bunch of new c...\n",
              "1212026      1  loves his PraiseTEAM family  I will never forg...\n",
              "1447314      1                      Sprinkers need some work  #fb\n",
              "594454       0  @garpods22 I know! I can't believe we haven't ...\n",
              "1159850      1                   @mosessaur U sure know that !!! \n",
              "580463       0  wishes that it would just rain already.  My ki..."
            ]
          },
          "metadata": {
            "tags": []
          },
          "execution_count": 11
        }
      ]
    },
    {
      "cell_type": "markdown",
      "metadata": {
        "id": "qa71sLdEdlKi"
      },
      "source": [
        "# Preprocess Dataset"
      ]
    },
    {
      "cell_type": "code",
      "metadata": {
        "colab": {
          "base_uri": "https://localhost:8080/"
        },
        "id": "qlT2fdgWlowF",
        "outputId": "e60d2a4a-a320-42e8-d215-cb653450b836"
      },
      "source": [
        "nltk.download('wordnet')\n",
        "nltk.download('stopwords')\n",
        "\n",
        "# remove URL\n",
        "def cleaning_URLs(data):\n",
        "    return re.sub('((www.[^s]+)|(https?://[^s]+))',' ',data)\n",
        "\n",
        "def clean_train_data(x):\n",
        "  text = x\n",
        "  text = text.lower()   # convert to lower case\n",
        "  text = re.sub('\\[.*?\\]', '', text) # remove square brackets\n",
        "  text = re.sub(r'[^\\w\\s]','',text) # remove punctuation\n",
        "  text = re.sub('\\w*\\d\\w*', '', text) # remove words containing numbers\n",
        "  text = re.sub('\\n', '', text) # remove carriage return\n",
        "  text = cleaning_URLs(text) # remove URL\n",
        "  text = text.split()\n",
        "  stop_words = set(stopwords.words('english')) # remove stopwords\n",
        "  text = [w for w in text if not w in stop_words] \n",
        "  lemma = nltk.wordnet.WordNetLemmatizer() # lemmatization\n",
        "  text = ' '.join([lemma.lemmatize(word) for word in text])\n",
        "\n",
        "  return text"
      ],
      "execution_count": null,
      "outputs": [
        {
          "output_type": "stream",
          "text": [
            "[nltk_data] Downloading package wordnet to /root/nltk_data...\n",
            "[nltk_data]   Unzipping corpora/wordnet.zip.\n",
            "[nltk_data] Downloading package stopwords to /root/nltk_data...\n",
            "[nltk_data]   Unzipping corpora/stopwords.zip.\n"
          ],
          "name": "stdout"
        }
      ]
    },
    {
      "cell_type": "code",
      "metadata": {
        "colab": {
          "base_uri": "https://localhost:8080/",
          "height": 206
        },
        "id": "UXT3CSrzmFua",
        "outputId": "4a1cf589-dc00-452b-b9fb-6979f15da0de"
      },
      "source": [
        "tweet_dataset['tweet'] = tweet_dataset.tweet.apply(lambda x : clean_train_data(x)) # apply to tweet column\n",
        "tweet_dataset.head()"
      ],
      "execution_count": null,
      "outputs": [
        {
          "output_type": "execute_result",
          "data": {
            "text/html": [
              "<div>\n",
              "<style scoped>\n",
              "    .dataframe tbody tr th:only-of-type {\n",
              "        vertical-align: middle;\n",
              "    }\n",
              "\n",
              "    .dataframe tbody tr th {\n",
              "        vertical-align: top;\n",
              "    }\n",
              "\n",
              "    .dataframe thead th {\n",
              "        text-align: right;\n",
              "    }\n",
              "</style>\n",
              "<table border=\"1\" class=\"dataframe\">\n",
              "  <thead>\n",
              "    <tr style=\"text-align: right;\">\n",
              "      <th></th>\n",
              "      <th>label</th>\n",
              "      <th>tweet</th>\n",
              "    </tr>\n",
              "  </thead>\n",
              "  <tbody>\n",
              "    <tr>\n",
              "      <th>0</th>\n",
              "      <td>0</td>\n",
              "      <td>switchfoot bummer shoulda got david carr third...</td>\n",
              "    </tr>\n",
              "    <tr>\n",
              "      <th>1</th>\n",
              "      <td>0</td>\n",
              "      <td>upset cant update facebook texting might cry r...</td>\n",
              "    </tr>\n",
              "    <tr>\n",
              "      <th>2</th>\n",
              "      <td>0</td>\n",
              "      <td>kenichan dived many time ball managed save res...</td>\n",
              "    </tr>\n",
              "    <tr>\n",
              "      <th>3</th>\n",
              "      <td>0</td>\n",
              "      <td>whole body feel itchy like fire</td>\n",
              "    </tr>\n",
              "    <tr>\n",
              "      <th>4</th>\n",
              "      <td>0</td>\n",
              "      <td>nationwideclass behaving im mad cant see</td>\n",
              "    </tr>\n",
              "  </tbody>\n",
              "</table>\n",
              "</div>"
            ],
            "text/plain": [
              "   label                                              tweet\n",
              "0      0  switchfoot bummer shoulda got david carr third...\n",
              "1      0  upset cant update facebook texting might cry r...\n",
              "2      0  kenichan dived many time ball managed save res...\n",
              "3      0                    whole body feel itchy like fire\n",
              "4      0           nationwideclass behaving im mad cant see"
            ]
          },
          "metadata": {
            "tags": []
          },
          "execution_count": 13
        }
      ]
    },
    {
      "cell_type": "code",
      "metadata": {
        "id": "HMTEjP5BmOBj"
      },
      "source": [
        "max_features = 6000\n",
        "token = Tokenizer(num_words=max_features, split = ' ')\n",
        "token.fit_on_texts(tweet_dataset['tweet'].values)\n",
        "\n",
        "X = token.texts_to_sequences(tweet_dataset['tweet'].values)\n",
        "X = pad_sequences(X,maxlen=20)   "
      ],
      "execution_count": null,
      "outputs": []
    },
    {
      "cell_type": "code",
      "metadata": {
        "colab": {
          "base_uri": "https://localhost:8080/"
        },
        "id": "7jfyeh8Xm9kY",
        "outputId": "81bbe1fa-d247-48bc-a7f9-cadfa6894955"
      },
      "source": [
        "labels = to_categorical(tweet_dataset['label'], num_classes=2)\n",
        "labels.shape"
      ],
      "execution_count": null,
      "outputs": [
        {
          "output_type": "execute_result",
          "data": {
            "text/plain": [
              "(1600000, 2)"
            ]
          },
          "metadata": {
            "tags": []
          },
          "execution_count": 16
        }
      ]
    },
    {
      "cell_type": "code",
      "metadata": {
        "id": "cOxTDunUnDZx"
      },
      "source": [
        "Y = labels"
      ],
      "execution_count": null,
      "outputs": []
    },
    {
      "cell_type": "markdown",
      "metadata": {
        "id": "_JK9RI8xd2kt"
      },
      "source": [
        "# Split Dataset"
      ]
    },
    {
      "cell_type": "code",
      "metadata": {
        "id": "sDZtfzoTnFC0"
      },
      "source": [
        "X_train, xtmp, y_train, ytmp = train_test_split(X,Y, test_size=0.25, random_state=42)\n",
        "X_validation, X_test, y_validation, y_test = train_test_split(xtmp,ytmp, test_size=0.4, random_state=42)"
      ],
      "execution_count": null,
      "outputs": []
    },
    {
      "cell_type": "code",
      "metadata": {
        "colab": {
          "base_uri": "https://localhost:8080/"
        },
        "id": "T4T28DlXnGTn",
        "outputId": "49746001-6675-4cdf-d5e9-abefd962b106"
      },
      "source": [
        "X_train\n",
        "X_validation\n",
        "X_test"
      ],
      "execution_count": null,
      "outputs": [
        {
          "output_type": "execute_result",
          "data": {
            "text/plain": [
              "array([[   0,    0,    0, ..., 1565,    7,  933],\n",
              "       [   0,    0,    0, ...,   31,  631,   37],\n",
              "       [   0,    0,    0, ..., 5983, 1275,  138],\n",
              "       ...,\n",
              "       [   0,    0,    0, ...,   13,   13,  592],\n",
              "       [   0,    0,    0, ..., 5418,   31, 4193],\n",
              "       [   0,    0,    0, ..., 3028, 3028, 3028]], dtype=int32)"
            ]
          },
          "metadata": {
            "tags": []
          },
          "execution_count": 19
        }
      ]
    },
    {
      "cell_type": "code",
      "metadata": {
        "colab": {
          "base_uri": "https://localhost:8080/"
        },
        "id": "-UqPzm8rnHpZ",
        "outputId": "94c54b0f-c201-4fc1-889d-62e102ad7b54"
      },
      "source": [
        "y_train\n",
        "y_validation\n",
        "y_test"
      ],
      "execution_count": null,
      "outputs": [
        {
          "output_type": "execute_result",
          "data": {
            "text/plain": [
              "array([[0., 1.],\n",
              "       [0., 1.],\n",
              "       [1., 0.],\n",
              "       ...,\n",
              "       [0., 1.],\n",
              "       [0., 1.],\n",
              "       [1., 0.]], dtype=float32)"
            ]
          },
          "metadata": {
            "tags": []
          },
          "execution_count": 20
        }
      ]
    },
    {
      "cell_type": "markdown",
      "metadata": {
        "id": "GpavEoFIeH3z"
      },
      "source": [
        "# Build Model"
      ]
    },
    {
      "cell_type": "code",
      "metadata": {
        "colab": {
          "base_uri": "https://localhost:8080/"
        },
        "id": "6krfi_oGnLd2",
        "outputId": "7baea9e2-b388-4d8b-c97f-85a67a66c406"
      },
      "source": [
        "embed_dim = 128\n",
        "lstm_out = 96\n",
        "\n",
        "model = Sequential()\n",
        "model.add(Embedding(max_features, embed_dim, input_length = X.shape[1]))\n",
        "model.add(SpatialDropout1D(0.4))\n",
        "model.add(LSTM(lstm_out, dropout=0.2, recurrent_dropout=0.2))\n",
        "model.add(Dense(2, activation='softmax'))\n",
        "model.compile(loss='categorical_crossentropy', optimizer='adam', metrics=['accuracy'])\n",
        "\n",
        "model.summary()"
      ],
      "execution_count": null,
      "outputs": [
        {
          "output_type": "stream",
          "text": [
            "Model: \"sequential\"\n",
            "_________________________________________________________________\n",
            "Layer (type)                 Output Shape              Param #   \n",
            "=================================================================\n",
            "embedding (Embedding)        (None, 20, 128)           768000    \n",
            "_________________________________________________________________\n",
            "spatial_dropout1d (SpatialDr (None, 20, 128)           0         \n",
            "_________________________________________________________________\n",
            "lstm (LSTM)                  (None, 96)                86400     \n",
            "_________________________________________________________________\n",
            "dense (Dense)                (None, 2)                 194       \n",
            "=================================================================\n",
            "Total params: 854,594\n",
            "Trainable params: 854,594\n",
            "Non-trainable params: 0\n",
            "_________________________________________________________________\n"
          ],
          "name": "stdout"
        }
      ]
    },
    {
      "cell_type": "markdown",
      "metadata": {
        "id": "zy7CiZWqeNgr"
      },
      "source": [
        "# Train Model"
      ]
    },
    {
      "cell_type": "code",
      "metadata": {
        "id": "8SphzXkJnNx-"
      },
      "source": [
        "callbacks = [ tf.keras.callbacks.EarlyStopping(monitor='val_loss',patience=1,restore_best_weights=True)]"
      ],
      "execution_count": null,
      "outputs": []
    },
    {
      "cell_type": "code",
      "metadata": {
        "colab": {
          "base_uri": "https://localhost:8080/"
        },
        "id": "Eruh7klOnO4i",
        "outputId": "c39c7ebc-f43d-4cf0-fd0f-c8bce3c18e01"
      },
      "source": [
        "batch_size = 256\n",
        "history = model.fit(X_train, y_train, \n",
        "                    epochs=8, \n",
        "                    validation_data = (X_validation,y_validation),\n",
        "                    batch_size=batch_size,\n",
        "                    callbacks=callbacks)"
      ],
      "execution_count": null,
      "outputs": [
        {
          "output_type": "stream",
          "text": [
            "Epoch 1/8\n",
            "4688/4688 [==============================] - 865s 179ms/step - loss: 0.4950 - accuracy: 0.7573 - val_loss: 0.4570 - val_accuracy: 0.7824\n",
            "Epoch 2/8\n",
            "4688/4688 [==============================] - 828s 177ms/step - loss: 0.4509 - accuracy: 0.7860 - val_loss: 0.4496 - val_accuracy: 0.7869\n",
            "Epoch 3/8\n",
            "4688/4688 [==============================] - 826s 176ms/step - loss: 0.4426 - accuracy: 0.7910 - val_loss: 0.4449 - val_accuracy: 0.7898\n",
            "Epoch 4/8\n",
            "4688/4688 [==============================] - 825s 176ms/step - loss: 0.4360 - accuracy: 0.7947 - val_loss: 0.4438 - val_accuracy: 0.7900\n",
            "Epoch 5/8\n",
            "4688/4688 [==============================] - 823s 176ms/step - loss: 0.4319 - accuracy: 0.7973 - val_loss: 0.4427 - val_accuracy: 0.7913\n",
            "Epoch 6/8\n",
            "4688/4688 [==============================] - 824s 176ms/step - loss: 0.4264 - accuracy: 0.8003 - val_loss: 0.4422 - val_accuracy: 0.7921\n",
            "Epoch 7/8\n",
            "4688/4688 [==============================] - 825s 176ms/step - loss: 0.4227 - accuracy: 0.8027 - val_loss: 0.4424 - val_accuracy: 0.7921\n"
          ],
          "name": "stdout"
        }
      ]
    },
    {
      "cell_type": "markdown",
      "metadata": {
        "id": "CC-2v0BAePst"
      },
      "source": [
        "# Plot Graph"
      ]
    },
    {
      "cell_type": "code",
      "metadata": {
        "colab": {
          "base_uri": "https://localhost:8080/",
          "height": 441
        },
        "id": "soTXhCxnnU46",
        "outputId": "f08a1f18-0a87-4f32-89c1-036cd4e15bc5"
      },
      "source": [
        "history_dict = history.history\n",
        "print(history_dict.keys())\n",
        "\n",
        "acc = history_dict['accuracy']\n",
        "val_acc = history_dict['val_accuracy']\n",
        "loss = history_dict['loss']\n",
        "val_loss = history_dict['val_loss']\n",
        "\n",
        "epochs = range(1, len(acc) + 1)\n",
        "fig = plt.figure(figsize=(10, 6))\n",
        "fig.tight_layout()\n",
        "\n",
        "plt.subplot(2, 1, 1)\n",
        "# \"bo\" is for \"blue dot\"\n",
        "plt.plot(epochs, loss, 'r', label='Training loss')\n",
        "# b is for \"solid blue line\"\n",
        "plt.plot(epochs, val_loss, 'b', label='Validation loss')\n",
        "plt.title('Training and validation loss')\n",
        "# plt.xlabel('Epochs')\n",
        "plt.ylabel('Loss')\n",
        "plt.legend()\n",
        "\n",
        "plt.subplot(2, 1, 2)\n",
        "plt.plot(epochs, acc, 'r', label='Training acc')\n",
        "plt.plot(epochs, val_acc, 'b', label='Validation acc')\n",
        "plt.title('Training and validation accuracy')\n",
        "plt.xlabel('Epochs')\n",
        "plt.ylabel('Accuracy')\n",
        "plt.legend(loc='lower right')"
      ],
      "execution_count": null,
      "outputs": [
        {
          "output_type": "stream",
          "text": [
            "dict_keys(['loss', 'accuracy', 'val_loss', 'val_accuracy'])\n"
          ],
          "name": "stdout"
        },
        {
          "output_type": "execute_result",
          "data": {
            "text/plain": [
              "<matplotlib.legend.Legend at 0x7f0e013fce10>"
            ]
          },
          "metadata": {
            "tags": []
          },
          "execution_count": 25
        },
        {
          "output_type": "display_data",
          "data": {
            "image/png": "[encoded data removed]",
            "text/plain": [
              "<Figure size 720x432 with 2 Axes>"
            ]
          },
          "metadata": {
            "tags": [],
            "needs_background": "light"
          }
        }
      ]
    },
    {
      "cell_type": "markdown",
      "metadata": {
        "id": "cPCh2A9zeSYS"
      },
      "source": [
        "# Evaluate Model"
      ]
    },
    {
      "cell_type": "code",
      "metadata": {
        "colab": {
          "base_uri": "https://localhost:8080/"
        },
        "id": "HVDE4O7InXz1",
        "outputId": "3582a47d-392b-4941-d759-7648abe7e2f4"
      },
      "source": [
        "loss, accuracy = model.evaluate(X_test, y_test)\n",
        "\n",
        "print(f'Loss: {loss}')\n",
        "print(f'Accuracy: {accuracy}')"
      ],
      "execution_count": null,
      "outputs": [
        {
          "output_type": "stream",
          "text": [
            "5000/5000 [==============================] - 37s 7ms/step - loss: 0.4425 - accuracy: 0.7922\n",
            "Loss: 0.4425494074821472\n",
            "Accuracy: 0.7922312617301941\n"
          ],
          "name": "stdout"
        }
      ]
    },
    {
      "cell_type": "markdown",
      "metadata": {
        "id": "HXFgNEroeYHP"
      },
      "source": [
        "# Classification Report"
      ]
    },
    {
      "cell_type": "code",
      "metadata": {
        "id": "RIELAqYi1XO4"
      },
      "source": [
        "pred = model.predict(X_test)\n",
        "pred = np.argmax(pred,axis = 1) \n",
        "y_true = np.argmax(y_test,axis = 1)"
      ],
      "execution_count": null,
      "outputs": []
    },
    {
      "cell_type": "code",
      "metadata": {
        "colab": {
          "base_uri": "https://localhost:8080/"
        },
        "id": "2Xt-oNAN1Yw6",
        "outputId": "5d4810c7-4bba-4623-9882-86ba3a40e843"
      },
      "source": [
        "from sklearn.metrics import classification_report, confusion_matrix\n",
        "print(classification_report(y_true=y_true,y_pred=pred, target_names=['Negative','Positive']))"
      ],
      "execution_count": null,
      "outputs": [
        {
          "output_type": "stream",
          "text": [
            "              precision    recall  f1-score   support\n",
            "\n",
            "    Negative       0.80      0.79      0.79     79905\n",
            "    Positive       0.79      0.80      0.79     80095\n",
            "\n",
            "    accuracy                           0.79    160000\n",
            "   macro avg       0.79      0.79      0.79    160000\n",
            "weighted avg       0.79      0.79      0.79    160000\n",
            "\n"
          ],
          "name": "stdout"
        }
      ]
    },
    {
      "cell_type": "markdown",
      "metadata": {
        "id": "D9tA9AJYeabq"
      },
      "source": [
        "# Confusion Matrix"
      ]
    },
    {
      "cell_type": "code",
      "metadata": {
        "colab": {
          "base_uri": "https://localhost:8080/",
          "height": 487
        },
        "id": "uOLjlae_1Ztg",
        "outputId": "b476f964-e668-4c3f-c276-8c0e87791266"
      },
      "source": [
        "import seaborn as sns\n",
        "%matplotlib inline\n",
        "\n",
        "CM = confusion_matrix(y_true, pred)\n",
        "\n",
        "fig, ax = plt.subplots(figsize=(6,6)) \n",
        "\n",
        "sns.set(font_scale=1.2)\n",
        "sns.heatmap(CM, annot=True, cmap=\"Blues\" ,fmt='g',xticklabels=['Negative','Positive'],yticklabels=['Negative','Positive']) \n",
        "ax.xaxis.set_label_position(\"top\") \n",
        "ax.set_ylim([0,2])\n",
        "\n",
        "plt.tight_layout()\n",
        "plt.title('Confusion matrix', y=1,fontsize=22) \n",
        "plt.ylabel('Actual label') \n",
        "plt.xlabel('Predicted label')"
      ],
      "execution_count": null,
      "outputs": [
        {
          "output_type": "execute_result",
          "data": {
            "text/plain": [
              "Text(0.5, 384.16, 'Predicted label')"
            ]
          },
          "metadata": {
            "tags": []
          },
          "execution_count": 30
        },
        {
          "output_type": "display_data",
          "data": {
            "image/png": "[encoded data removed]",
            "text/plain": [
              "<Figure size 432x432 with 2 Axes>"
            ]
          },
          "metadata": {
            "tags": [],
            "needs_background": "light"
          }
        }
      ]
    },
    {
      "cell_type": "markdown",
      "metadata": {
        "id": "lmLJTUL3edVs"
      },
      "source": [
        "# Make Prediction"
      ]
    },
    {
      "cell_type": "code",
      "metadata": {
        "id": "lDZ2J9nfN5tM"
      },
      "source": [
        "sentences = ['Nobody cares', 'It is the best day of my life',\n",
        "             'Please leave me alone', 'Fed up with my life', 'Having my favourite curly fries in McD right now']"
      ],
      "execution_count": null,
      "outputs": []
    },
    {
      "cell_type": "code",
      "metadata": {
        "id": "RE2QqXfQOLye"
      },
      "source": [
        "pred_sentences = token.texts_to_sequences(sentences)\n",
        "pred_sentences = pad_sequences(pred_sentences)"
      ],
      "execution_count": null,
      "outputs": []
    },
    {
      "cell_type": "code",
      "metadata": {
        "id": "U_fjSzB1ONIY"
      },
      "source": [
        "true_label = []\n",
        "\n",
        "for i in range(len(sentences)):\n",
        "  tf_outputs = model(tf.convert_to_tensor(pred_sentences))\n",
        "  tf_predictions = tf.nn.softmax(tf_outputs[i], axis=-1)\n",
        "  labels = ['Negative','Positive']\n",
        "  label = tf.argmax(tf_predictions,None)\n",
        "  label = np.array(label)\n",
        "  true_label.append(label)"
      ],
      "execution_count": null,
      "outputs": []
    },
    {
      "cell_type": "code",
      "metadata": {
        "colab": {
          "base_uri": "https://localhost:8080/"
        },
        "id": "7stRh30lOOcs",
        "outputId": "9052da8a-a3cc-476b-ea41-ca8248573fad"
      },
      "source": [
        "print(true_label)"
      ],
      "execution_count": null,
      "outputs": [
        {
          "output_type": "stream",
          "text": [
            "[array(0), array(1), array(0), array(0), array(1)]\n"
          ],
          "name": "stdout"
        }
      ]
    },
    {
      "cell_type": "code",
      "metadata": {
        "colab": {
          "base_uri": "https://localhost:8080/"
        },
        "id": "WQxXYfkOOPoZ",
        "outputId": "65c042d9-eea9-459b-c877-240649a014b6"
      },
      "source": [
        "for i in range(len(pred_sentences)):\n",
        "  if true_label[i] == 0:\n",
        "    result = \"negative\"\n",
        "  if true_label[i] == 1:\n",
        "    result = \"positive\"\n",
        "  print(sentences[i], \": \\n\", result)"
      ],
      "execution_count": null,
      "outputs": [
        {
          "output_type": "stream",
          "text": [
            "Nobody cares : \n",
            " negative\n",
            "It is the best day of my life : \n",
            " positive\n",
            "Please leave me alone : \n",
            " negative\n",
            "Fed up with my life : \n",
            " negative\n",
            "Having my favourite curly fries in McD right now : \n",
            " positive\n"
          ],
          "name": "stdout"
        }
      ]
    },
    {
      "cell_type": "code",
      "metadata": {
        "id": "Wx_LiaakOQ9k"
      },
      "source": [
        "model.save(\"/content/drive/LSTM_Model\")"
      ],
      "execution_count": null,
      "outputs": []
    },
    {
      "cell_type": "code",
      "metadata": {
        "id": "Bh9japAucx-4"
      },
      "source": [
        "model.save(\"/content/drive/lstm_model.h5\")"
      ],
      "execution_count": null,
      "outputs": []
    },
    {
      "cell_type": "code",
      "metadata": {
        "id": "kgUVewTveDXF"
      },
      "source": [
        ""
      ],
      "execution_count": null,
      "outputs": []
    }
  ]
}