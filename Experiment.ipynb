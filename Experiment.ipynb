{
  "nbformat": 4,
  "nbformat_minor": 0,
  "metadata": {
    "colab": {
      "name": "(github)Experiement.ipynb",
      "provenance": [],
      "collapsed_sections": []
    },
    "kernelspec": {
      "name": "python3",
      "display_name": "Python 3"
    },
    "language_info": {
      "name": "python"
    }
  },
  "cells": [
    {
      "cell_type": "code",
      "metadata": {
        "id": "eHz-TyqHgNAp"
      },
      "source": [
        "import numpy as np\n",
        "import pandas as pd\n",
        "import matplotlib.pyplot as plt\n",
        "import os\n",
        "import shutil\n",
        "import matplotlib.pyplot as plt\n",
        "\n",
        "import tensorflow as tf\n",
        "\n",
        "import tensorflow_hub as hub\n",
        "import tensorflow_datasets as tfds\n",
        "\n",
        "from keras.preprocessing.text import Tokenizer\n",
        "from keras.preprocessing.sequence import pad_sequences"
      ],
      "execution_count": null,
      "outputs": []
    },
    {
      "cell_type": "markdown",
      "metadata": {
        "id": "vnuwyq7DhzRa"
      },
      "source": [
        "# Save Tokenizer"
      ]
    },
    {
      "cell_type": "code",
      "metadata": {
        "id": "ff6NLyONgM9k"
      },
      "source": [
        "tweet_dataset = pd.read_csv('/content/drive/dataset.csv',\n",
        "                            encoding = \"ISO-8859-1\",\n",
        "                            usecols=[0, 5],\n",
        "                            names=[\"label\",\"tweet\"])"
      ],
      "execution_count": null,
      "outputs": []
    },
    {
      "cell_type": "code",
      "metadata": {
        "colab": {
          "base_uri": "https://localhost:8080/"
        },
        "id": "b4krCTOggM6b",
        "outputId": "74419e7c-f683-4eee-9dd7-750ae4fd463d"
      },
      "source": [
        "print(tweet_dataset.shape) "
      ],
      "execution_count": null,
      "outputs": [
        {
          "output_type": "stream",
          "text": [
            "(1600000, 2)\n"
          ],
          "name": "stdout"
        }
      ]
    },
    {
      "cell_type": "code",
      "metadata": {
        "id": "N7TACMiqgM4Q"
      },
      "source": [
        "tweet_dataset['label'].replace([4, 0],[1, 0], inplace=True) "
      ],
      "execution_count": null,
      "outputs": []
    },
    {
      "cell_type": "code",
      "metadata": {
        "colab": {
          "base_uri": "https://localhost:8080/",
          "height": 206
        },
        "id": "m5cG9yVkjh7o",
        "outputId": "3bb7f440-e685-4ae9-f94a-7b170fed8c2d"
      },
      "source": [
        "tweet_dataset.head()"
      ],
      "execution_count": null,
      "outputs": [
        {
          "output_type": "execute_result",
          "data": {
            "text/html": [
              "<div>\n",
              "<style scoped>\n",
              "    .dataframe tbody tr th:only-of-type {\n",
              "        vertical-align: middle;\n",
              "    }\n",
              "\n",
              "    .dataframe tbody tr th {\n",
              "        vertical-align: top;\n",
              "    }\n",
              "\n",
              "    .dataframe thead th {\n",
              "        text-align: right;\n",
              "    }\n",
              "</style>\n",
              "<table border=\"1\" class=\"dataframe\">\n",
              "  <thead>\n",
              "    <tr style=\"text-align: right;\">\n",
              "      <th></th>\n",
              "      <th>label</th>\n",
              "      <th>tweet</th>\n",
              "    </tr>\n",
              "  </thead>\n",
              "  <tbody>\n",
              "    <tr>\n",
              "      <th>0</th>\n",
              "      <td>0</td>\n",
              "      <td>@switchfoot http://twitpic.com/2y1zl - Awww, t...</td>\n",
              "    </tr>\n",
              "    <tr>\n",
              "      <th>1</th>\n",
              "      <td>0</td>\n",
              "      <td>is upset that he can't update his Facebook by ...</td>\n",
              "    </tr>\n",
              "    <tr>\n",
              "      <th>2</th>\n",
              "      <td>0</td>\n",
              "      <td>@Kenichan I dived many times for the ball. Man...</td>\n",
              "    </tr>\n",
              "    <tr>\n",
              "      <th>3</th>\n",
              "      <td>0</td>\n",
              "      <td>my whole body feels itchy and like its on fire</td>\n",
              "    </tr>\n",
              "    <tr>\n",
              "      <th>4</th>\n",
              "      <td>0</td>\n",
              "      <td>@nationwideclass no, it's not behaving at all....</td>\n",
              "    </tr>\n",
              "  </tbody>\n",
              "</table>\n",
              "</div>"
            ],
            "text/plain": [
              "   label                                              tweet\n",
              "0      0  @switchfoot http://twitpic.com/2y1zl - Awww, t...\n",
              "1      0  is upset that he can't update his Facebook by ...\n",
              "2      0  @Kenichan I dived many times for the ball. Man...\n",
              "3      0    my whole body feels itchy and like its on fire \n",
              "4      0  @nationwideclass no, it's not behaving at all...."
            ]
          },
          "metadata": {
            "tags": []
          },
          "execution_count": 8
        }
      ]
    },
    {
      "cell_type": "code",
      "metadata": {
        "colab": {
          "base_uri": "https://localhost:8080/"
        },
        "id": "0xjyRnLOjh4-",
        "outputId": "c6db9d45-5bbd-456a-9dd7-bcb52d828466"
      },
      "source": [
        "tweet_dataset['label'].value_counts()"
      ],
      "execution_count": null,
      "outputs": [
        {
          "output_type": "execute_result",
          "data": {
            "text/plain": [
              "1    800000\n",
              "0    800000\n",
              "Name: label, dtype: int64"
            ]
          },
          "metadata": {
            "tags": []
          },
          "execution_count": 9
        }
      ]
    },
    {
      "cell_type": "code",
      "metadata": {
        "colab": {
          "base_uri": "https://localhost:8080/",
          "height": 363
        },
        "id": "ZO0G-xqSjn65",
        "outputId": "81a2bbeb-163d-4d14-8328-c01640183fd5"
      },
      "source": [
        "import random \n",
        "random.seed(41)\n",
        "tweet_dataset.iloc[random.sample(range(1, 1600000), 10), :]"
      ],
      "execution_count": null,
      "outputs": [
        {
          "output_type": "execute_result",
          "data": {
            "text/html": [
              "<div>\n",
              "<style scoped>\n",
              "    .dataframe tbody tr th:only-of-type {\n",
              "        vertical-align: middle;\n",
              "    }\n",
              "\n",
              "    .dataframe tbody tr th {\n",
              "        vertical-align: top;\n",
              "    }\n",
              "\n",
              "    .dataframe thead th {\n",
              "        text-align: right;\n",
              "    }\n",
              "</style>\n",
              "<table border=\"1\" class=\"dataframe\">\n",
              "  <thead>\n",
              "    <tr style=\"text-align: right;\">\n",
              "      <th></th>\n",
              "      <th>label</th>\n",
              "      <th>tweet</th>\n",
              "    </tr>\n",
              "  </thead>\n",
              "  <tbody>\n",
              "    <tr>\n",
              "      <th>799059</th>\n",
              "      <td>0</td>\n",
              "      <td>awww RIP Farrah Fawcett  bummer @takianballard...</td>\n",
              "    </tr>\n",
              "    <tr>\n",
              "      <th>696726</th>\n",
              "      <td>0</td>\n",
              "      <td>Morning Tweet Peeps &amp;amp; FB Folks. Had plans ...</td>\n",
              "    </tr>\n",
              "    <tr>\n",
              "      <th>483854</th>\n",
              "      <td>0</td>\n",
              "      <td>back still aching  . hmmm.. it's been a while ...</td>\n",
              "    </tr>\n",
              "    <tr>\n",
              "      <th>348205</th>\n",
              "      <td>0</td>\n",
              "      <td>@vrikis I just noticed that you have in- follo...</td>\n",
              "    </tr>\n",
              "    <tr>\n",
              "      <th>808725</th>\n",
              "      <td>1</td>\n",
              "      <td>wow just got how it was great a bunch of new c...</td>\n",
              "    </tr>\n",
              "    <tr>\n",
              "      <th>1212026</th>\n",
              "      <td>1</td>\n",
              "      <td>loves his PraiseTEAM family  I will never forg...</td>\n",
              "    </tr>\n",
              "    <tr>\n",
              "      <th>1447314</th>\n",
              "      <td>1</td>\n",
              "      <td>Sprinkers need some work  #fb</td>\n",
              "    </tr>\n",
              "    <tr>\n",
              "      <th>594454</th>\n",
              "      <td>0</td>\n",
              "      <td>@garpods22 I know! I can't believe we haven't ...</td>\n",
              "    </tr>\n",
              "    <tr>\n",
              "      <th>1159850</th>\n",
              "      <td>1</td>\n",
              "      <td>@mosessaur U sure know that !!!</td>\n",
              "    </tr>\n",
              "    <tr>\n",
              "      <th>580463</th>\n",
              "      <td>0</td>\n",
              "      <td>wishes that it would just rain already.  My ki...</td>\n",
              "    </tr>\n",
              "  </tbody>\n",
              "</table>\n",
              "</div>"
            ],
            "text/plain": [
              "         label                                              tweet\n",
              "799059       0  awww RIP Farrah Fawcett  bummer @takianballard...\n",
              "696726       0  Morning Tweet Peeps &amp; FB Folks. Had plans ...\n",
              "483854       0  back still aching  . hmmm.. it's been a while ...\n",
              "348205       0  @vrikis I just noticed that you have in- follo...\n",
              "808725       1  wow just got how it was great a bunch of new c...\n",
              "1212026      1  loves his PraiseTEAM family  I will never forg...\n",
              "1447314      1                      Sprinkers need some work  #fb\n",
              "594454       0  @garpods22 I know! I can't believe we haven't ...\n",
              "1159850      1                   @mosessaur U sure know that !!! \n",
              "580463       0  wishes that it would just rain already.  My ki..."
            ]
          },
          "metadata": {
            "tags": []
          },
          "execution_count": 10
        }
      ]
    },
    {
      "cell_type": "code",
      "metadata": {
        "colab": {
          "base_uri": "https://localhost:8080/"
        },
        "id": "HXZrm55Yjn4d",
        "outputId": "f5432ca2-0072-4559-b51c-f4f732aba83f"
      },
      "source": [
        "import re\n",
        "import nltk\n",
        "from nltk.corpus import stopwords\n",
        "nltk.download('wordnet')\n",
        "nltk.download('stopwords')\n",
        "\n",
        "def cleaning_URLs(data):\n",
        "    return re.sub('((www.[^s]+)|(https?://[^s]+))',' ',data)\n",
        "\n",
        "def clean_train_data(x):\n",
        "  text = x\n",
        "  text = text.lower()   \n",
        "  text = re.sub('\\[.*?\\]', '', text)\n",
        "  text = re.sub(r'[^\\w\\s]','',text)\n",
        "  text = re.sub('\\w*\\d\\w*', '', text) \n",
        "  text = re.sub('\\n', '', text) \n",
        "  text = cleaning_URLs(text) \n",
        "  text = text.split()\n",
        "  stop_words = set(stopwords.words('english')) \n",
        "  text = [w for w in text if not w in stop_words] \n",
        "  lemma = nltk.wordnet.WordNetLemmatizer()\n",
        "  text = ' '.join([lemma.lemmatize(word) for word in text])\n",
        "\n",
        "  return text"
      ],
      "execution_count": null,
      "outputs": [
        {
          "output_type": "stream",
          "text": [
            "[nltk_data] Downloading package wordnet to /root/nltk_data...\n",
            "[nltk_data]   Unzipping corpora/wordnet.zip.\n",
            "[nltk_data] Downloading package stopwords to /root/nltk_data...\n",
            "[nltk_data]   Unzipping corpora/stopwords.zip.\n"
          ],
          "name": "stdout"
        }
      ]
    },
    {
      "cell_type": "code",
      "metadata": {
        "colab": {
          "base_uri": "https://localhost:8080/",
          "height": 206
        },
        "id": "Loes6iAYjn11",
        "outputId": "7d6b4ba7-c4f5-4bbd-de3d-7d188ebddeda"
      },
      "source": [
        "tweet_dataset['tweet'] = tweet_dataset.tweet.apply(lambda x : clean_train_data(x)) \n",
        "tweet_dataset.head()"
      ],
      "execution_count": null,
      "outputs": [
        {
          "output_type": "execute_result",
          "data": {
            "text/html": [
              "<div>\n",
              "<style scoped>\n",
              "    .dataframe tbody tr th:only-of-type {\n",
              "        vertical-align: middle;\n",
              "    }\n",
              "\n",
              "    .dataframe tbody tr th {\n",
              "        vertical-align: top;\n",
              "    }\n",
              "\n",
              "    .dataframe thead th {\n",
              "        text-align: right;\n",
              "    }\n",
              "</style>\n",
              "<table border=\"1\" class=\"dataframe\">\n",
              "  <thead>\n",
              "    <tr style=\"text-align: right;\">\n",
              "      <th></th>\n",
              "      <th>label</th>\n",
              "      <th>tweet</th>\n",
              "    </tr>\n",
              "  </thead>\n",
              "  <tbody>\n",
              "    <tr>\n",
              "      <th>0</th>\n",
              "      <td>0</td>\n",
              "      <td>switchfoot bummer shoulda got david carr third...</td>\n",
              "    </tr>\n",
              "    <tr>\n",
              "      <th>1</th>\n",
              "      <td>0</td>\n",
              "      <td>upset cant update facebook texting might cry r...</td>\n",
              "    </tr>\n",
              "    <tr>\n",
              "      <th>2</th>\n",
              "      <td>0</td>\n",
              "      <td>kenichan dived many time ball managed save res...</td>\n",
              "    </tr>\n",
              "    <tr>\n",
              "      <th>3</th>\n",
              "      <td>0</td>\n",
              "      <td>whole body feel itchy like fire</td>\n",
              "    </tr>\n",
              "    <tr>\n",
              "      <th>4</th>\n",
              "      <td>0</td>\n",
              "      <td>nationwideclass behaving im mad cant see</td>\n",
              "    </tr>\n",
              "  </tbody>\n",
              "</table>\n",
              "</div>"
            ],
            "text/plain": [
              "   label                                              tweet\n",
              "0      0  switchfoot bummer shoulda got david carr third...\n",
              "1      0  upset cant update facebook texting might cry r...\n",
              "2      0  kenichan dived many time ball managed save res...\n",
              "3      0                    whole body feel itchy like fire\n",
              "4      0           nationwideclass behaving im mad cant see"
            ]
          },
          "metadata": {
            "tags": []
          },
          "execution_count": 12
        }
      ]
    },
    {
      "cell_type": "code",
      "metadata": {
        "id": "nhVfQX-IjnsW"
      },
      "source": [
        "max_features = 6000\n",
        "token = Tokenizer(num_words=max_features, split = ' ')\n",
        "token.fit_on_texts(tweet_dataset['tweet'].values)\n"
      ],
      "execution_count": null,
      "outputs": []
    },
    {
      "cell_type": "markdown",
      "metadata": {
        "id": "Q790qaVWfu3v"
      },
      "source": [
        "##### At this stage, the dataset has been tokenized. Let's load the model to see if the Tokenizer is working fine as expected"
      ]
    },
    {
      "cell_type": "code",
      "metadata": {
        "id": "QedKy8uUlXpz"
      },
      "source": [
        "import keras\n",
        "reconstructed_model = keras.models.load_model(\"/content/drive/LSTM_Model\")"
      ],
      "execution_count": null,
      "outputs": []
    },
    {
      "cell_type": "code",
      "metadata": {
        "id": "Pumo0JSwlXm9"
      },
      "source": [
        "sentences = ['Have a bad day', 'Just feel like killing myself', 'Nobody cares', 'I hate #covid19', 'Bad day', 'Love programming',\n",
        "             'Hooray! I finally make it~~~~', 'Why does everyone hate me?']"
      ],
      "execution_count": null,
      "outputs": []
    },
    {
      "cell_type": "code",
      "metadata": {
        "id": "gKydb9qblXkq"
      },
      "source": [
        "pred_sentences = token.texts_to_sequences(sentences)\n",
        "pred_sentences = pad_sequences(pred_sentences)"
      ],
      "execution_count": null,
      "outputs": []
    },
    {
      "cell_type": "code",
      "metadata": {
        "id": "_QsHSFE0lcUr"
      },
      "source": [
        "true_label = []\n",
        "\n",
        "for i in range(len(sentences)):\n",
        "  tf_outputs = reconstructed_model(tf.convert_to_tensor(pred_sentences))\n",
        "  tf_predictions = tf.nn.softmax(tf_outputs[i], axis=-1)\n",
        "  labels = ['Negative','Positive']\n",
        "  label = tf.argmax(tf_predictions,None)\n",
        "  label = np.array(label)\n",
        "  true_label.append(label)"
      ],
      "execution_count": null,
      "outputs": []
    },
    {
      "cell_type": "code",
      "metadata": {
        "colab": {
          "base_uri": "https://localhost:8080/"
        },
        "id": "UQzqLb69ld5b",
        "outputId": "879468d5-b156-4dd2-dc06-e645a6ccb3cd"
      },
      "source": [
        "print(true_label)"
      ],
      "execution_count": null,
      "outputs": [
        {
          "output_type": "stream",
          "text": [
            "[array(0), array(0), array(0), array(0), array(0), array(1), array(1), array(0)]\n"
          ],
          "name": "stdout"
        }
      ]
    },
    {
      "cell_type": "code",
      "metadata": {
        "colab": {
          "base_uri": "https://localhost:8080/"
        },
        "id": "xEBaH7P1ld3a",
        "outputId": "aa70e666-2d4e-4c48-dbe6-11cc543cf70d"
      },
      "source": [
        "for i in range(len(sentences)):\n",
        "  if true_label[i] == 0:\n",
        "    result = \"negative\"\n",
        "  if true_label[i] == 1:\n",
        "    result = \"positive\"\n",
        "  print(sentences[i], \": \\n\", result)"
      ],
      "execution_count": null,
      "outputs": [
        {
          "output_type": "stream",
          "text": [
            "Have a bad day : \n",
            " negative\n",
            "Just feel like killing myself : \n",
            " negative\n",
            "Nobody cares : \n",
            " negative\n",
            "I hate #covid19 : \n",
            " negative\n",
            "Bad day : \n",
            " negative\n",
            "Love programming : \n",
            " positive\n",
            "Hooray! I finally make it~~~~ : \n",
            " positive\n",
            "Why does everyone hate me? : \n",
            " negative\n"
          ],
          "name": "stdout"
        }
      ]
    },
    {
      "cell_type": "markdown",
      "metadata": {
        "id": "RI3mE_PagG7P"
      },
      "source": [
        "##### Perfect. Let's pickle the Tokenizer as tokenizer.pkl"
      ]
    },
    {
      "cell_type": "code",
      "metadata": {
        "id": "cKjmmRlLhFzS"
      },
      "source": [
        "import pickle\n",
        "\n",
        "with open('/content/drive/tokenizer.pkl', 'wb') as handle:\n",
        "  pickle.dump(token, handle, protocol=pickle.HIGHEST_PROTOCOL)"
      ],
      "execution_count": null,
      "outputs": []
    },
    {
      "cell_type": "markdown",
      "metadata": {
        "id": "N1yG-zjKiFWp"
      },
      "source": [
        "# Load the saved model without tokenizer.pkl"
      ]
    },
    {
      "cell_type": "code",
      "metadata": {
        "id": "v571d3briHXq"
      },
      "source": [
        "import keras\n",
        "reconstructed_model = keras.models.load_model(\"/content/drive/LSTM_Model\")"
      ],
      "execution_count": null,
      "outputs": []
    },
    {
      "cell_type": "code",
      "metadata": {
        "id": "ZgWOGoEhiIIA"
      },
      "source": [
        "sentences = ['Have a bad day', 'Just feel like killing myself', 'Nobody cares', 'I hate #covid19', 'Bad day', 'Love programming',\n",
        "             'Hooray! I finally make it~~~~', 'Why does everyone hate me?']"
      ],
      "execution_count": null,
      "outputs": []
    },
    {
      "cell_type": "code",
      "metadata": {
        "id": "KOIi8GuPiK2H"
      },
      "source": [
        "max_features = 6000\n",
        "token = Tokenizer(num_words=max_features, split = ' ')\n",
        "token.fit_on_texts(sentences)\n",
        "\n",
        "pred_sentences = token.texts_to_sequences(sentences)\n",
        "pred_sentences = pad_sequences(pred_sentences) "
      ],
      "execution_count": null,
      "outputs": []
    },
    {
      "cell_type": "code",
      "metadata": {
        "id": "S2UVaF1giN-v"
      },
      "source": [
        "true_label = []\n",
        "\n",
        "for i in range(len(sentences)):\n",
        "  tf_outputs = reconstructed_model(tf.convert_to_tensor(pred_sentences))\n",
        "  tf_predictions = tf.nn.softmax(tf_outputs[i], axis=-1)\n",
        "  labels = ['Negative','Positive']\n",
        "  label = tf.argmax(tf_predictions,None)\n",
        "  label = np.array(label)\n",
        "  true_label.append(label)"
      ],
      "execution_count": null,
      "outputs": []
    },
    {
      "cell_type": "code",
      "metadata": {
        "colab": {
          "base_uri": "https://localhost:8080/"
        },
        "id": "DCrH_IlUiPgP",
        "outputId": "6e58666f-8fb3-499a-b0f1-dfca8d3439e2"
      },
      "source": [
        "print(true_label)"
      ],
      "execution_count": null,
      "outputs": [
        {
          "output_type": "stream",
          "text": [
            "[array(1), array(0), array(1), array(0), array(1), array(1), array(1), array(1)]\n"
          ],
          "name": "stdout"
        }
      ]
    },
    {
      "cell_type": "code",
      "metadata": {
        "colab": {
          "base_uri": "https://localhost:8080/"
        },
        "id": "Vbj-bzXuiQ6a",
        "outputId": "a19ee0c5-206f-43d9-9794-292b0c9de7dd"
      },
      "source": [
        "for i in range(len(sentences)):\n",
        "  if true_label[i] == 0:\n",
        "    result = \"negative\"\n",
        "  if true_label[i] == 1:\n",
        "    result = \"positive\"\n",
        "  print(sentences[i], \": \\n\", result)"
      ],
      "execution_count": null,
      "outputs": [
        {
          "output_type": "stream",
          "text": [
            "Have a bad day : \n",
            " positive\n",
            "Just feel like killing myself : \n",
            " negative\n",
            "Nobody cares : \n",
            " positive\n",
            "I hate #covid19 : \n",
            " negative\n",
            "Bad day : \n",
            " positive\n",
            "Love programming : \n",
            " positive\n",
            "Hooray! I finally make it~~~~ : \n",
            " positive\n",
            "Why does everyone hate me? : \n",
            " positive\n"
          ],
          "name": "stdout"
        }
      ]
    },
    {
      "cell_type": "markdown",
      "metadata": {
        "id": "QbJkWPrqh44K"
      },
      "source": [
        "# Load the saved model with tokenizer.pkl"
      ]
    },
    {
      "cell_type": "code",
      "metadata": {
        "id": "bJZT_uInl7fS"
      },
      "source": [
        "import keras\n",
        "reconstructed_model = keras.models.load_model(\"/content/drive/LSTM_Model\")"
      ],
      "execution_count": null,
      "outputs": []
    },
    {
      "cell_type": "code",
      "metadata": {
        "id": "Mc6ctbOmhI8b"
      },
      "source": [
        "# loading\n",
        "import pickle\n",
        "with open('/content/drive/tokenizer.pkl', 'rb') as handle:\n",
        "  token = pickle.load(handle)"
      ],
      "execution_count": null,
      "outputs": []
    },
    {
      "cell_type": "code",
      "metadata": {
        "id": "JqML48fZhSZt"
      },
      "source": [
        "sentences = ['Have a bad day', 'Just feel like killing myself', 'Nobody cares', 'I hate #covid19', 'Bad day', 'Love programming',\n",
        "             'Hooray! I finally make it~~~~', 'Why does everyone hate me?']"
      ],
      "execution_count": null,
      "outputs": []
    },
    {
      "cell_type": "code",
      "metadata": {
        "id": "AB-ejdKOiT8R"
      },
      "source": [
        "pred_sentences = token.texts_to_sequences(sentences)\n",
        "pred_sentences = pad_sequences(pred_sentences)"
      ],
      "execution_count": null,
      "outputs": []
    },
    {
      "cell_type": "code",
      "metadata": {
        "id": "zmNrTHliiVnc"
      },
      "source": [
        "true_label = []\n",
        "\n",
        "for i in range(len(sentences)):\n",
        "  tf_outputs = reconstructed_model(tf.convert_to_tensor(pred_sentences))\n",
        "  tf_predictions = tf.nn.softmax(tf_outputs[i], axis=-1)\n",
        "  labels = ['Negative','Positive']\n",
        "  label = tf.argmax(tf_predictions,None)\n",
        "  label = np.array(label)\n",
        "  true_label.append(label)"
      ],
      "execution_count": null,
      "outputs": []
    },
    {
      "cell_type": "code",
      "metadata": {
        "colab": {
          "base_uri": "https://localhost:8080/"
        },
        "id": "9237Qg1liVlg",
        "outputId": "86f7083b-2539-4bfe-a32e-5a947e0945b3"
      },
      "source": [
        "print(true_label)"
      ],
      "execution_count": null,
      "outputs": [
        {
          "output_type": "stream",
          "text": [
            "[array(0), array(0), array(0), array(0), array(0), array(1), array(1), array(0)]\n"
          ],
          "name": "stdout"
        }
      ]
    },
    {
      "cell_type": "code",
      "metadata": {
        "colab": {
          "base_uri": "https://localhost:8080/"
        },
        "id": "P2rsOMhRiVid",
        "outputId": "cedbf5f4-bd89-4257-8fe1-c71d8a770303"
      },
      "source": [
        "for i in range(len(sentences)):\n",
        "  if true_label[i] == 0:\n",
        "    result = \"negative\"\n",
        "  if true_label[i] == 1:\n",
        "    result = \"positive\"\n",
        "  print(sentences[i], \": \\n\", result)"
      ],
      "execution_count": null,
      "outputs": [
        {
          "output_type": "stream",
          "text": [
            "Have a bad day : \n",
            " negative\n",
            "Just feel like killing myself : \n",
            " negative\n",
            "Nobody cares : \n",
            " negative\n",
            "I hate #covid19 : \n",
            " negative\n",
            "Bad day : \n",
            " negative\n",
            "Love programming : \n",
            " positive\n",
            "Hooray! I finally make it~~~~ : \n",
            " positive\n",
            "Why does everyone hate me? : \n",
            " negative\n"
          ],
          "name": "stdout"
        }
      ]
    },
    {
      "cell_type": "code",
      "metadata": {
        "id": "NxbOf7a2mBFJ"
      },
      "source": [
        ""
      ],
      "execution_count": null,
      "outputs": []
    }
  ]
}